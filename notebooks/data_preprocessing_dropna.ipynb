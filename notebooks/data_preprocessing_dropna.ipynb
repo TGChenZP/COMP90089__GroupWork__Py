{
 "cells": [
  {
   "cell_type": "code",
   "execution_count": 1,
   "metadata": {},
   "outputs": [],
   "source": [
    "import pandas as pd\n",
    "import numpy as np\n",
    "import os"
   ]
  },
  {
   "cell_type": "code",
   "execution_count": 2,
   "metadata": {},
   "outputs": [
    {
     "name": "stdout",
     "output_type": "stream",
     "text": [
      "35289 36423\n"
     ]
    }
   ],
   "source": [
    "raw_data = pd.read_csv('../data/raw/df_merged11.csv')\n",
    "\n",
    "# get rid of hospice patients\n",
    "no_hospice_raw_data = raw_data[raw_data['discharge_location'] != 'HOSPICE']\n",
    "\n",
    "print(len(no_hospice_raw_data), len(raw_data))"
   ]
  },
  {
   "cell_type": "code",
   "execution_count": 3,
   "metadata": {},
   "outputs": [
    {
     "name": "stdout",
     "output_type": "stream",
     "text": [
      "12660 11251 1409\n"
     ]
    }
   ],
   "source": [
    "# deduplicate by hadm_id\n",
    "dedup_no_hospice_raw_data = no_hospice_raw_data.drop_duplicates(['hadm_id'])\n",
    "\n",
    "print(len(dedup_no_hospice_raw_data), len(dedup_no_hospice_raw_data[dedup_no_hospice_raw_data['deathtime'].isna()]), len(\n",
    "    dedup_no_hospice_raw_data[~dedup_no_hospice_raw_data['deathtime'].isna()]))"
   ]
  },
  {
   "cell_type": "code",
   "execution_count": 4,
   "metadata": {},
   "outputs": [],
   "source": [
    "columns = dedup_no_hospice_raw_data.columns"
   ]
  },
  {
   "cell_type": "code",
   "execution_count": 5,
   "metadata": {},
   "outputs": [
    {
     "name": "stdout",
     "output_type": "stream",
     "text": [
      "6104 4866 1238\n"
     ]
    }
   ],
   "source": [
    "# get rid of patients with no icu stay duration\n",
    "dedup_no_hospice_icu_raw_data = dedup_no_hospice_raw_data[dedup_no_hospice_raw_data['icu_stay_duration'].notna(\n",
    ")]\n",
    "\n",
    "print(len(dedup_no_hospice_icu_raw_data), len(dedup_no_hospice_icu_raw_data[dedup_no_hospice_icu_raw_data['deathtime'].isna()]), len(\n",
    "    dedup_no_hospice_icu_raw_data[~dedup_no_hospice_icu_raw_data['deathtime'].isna()]))"
   ]
  },
  {
   "cell_type": "code",
   "execution_count": 6,
   "metadata": {},
   "outputs": [
    {
     "name": "stdout",
     "output_type": "stream",
     "text": [
      "subject_id 0\n",
      "hadm_id 0\n",
      "gender 0\n",
      "anchor_age 0\n",
      "race 0\n",
      "admittime 0\n",
      "dischtime_x 0\n",
      "hospital_expire_flag 4864\n",
      "admission_type 0\n",
      "insurance 0\n",
      "marital_status 709\n",
      "stay_id 0\n",
      "intime 0\n",
      "outtime 0\n",
      "los 0\n",
      "deathtime 4866\n",
      "discharge_location 49\n",
      "item_51006 693\n",
      "item_51221 719\n",
      "item_51222 706\n",
      "item_51265 714\n",
      "item_51301 705\n",
      "item_51237 907\n",
      "item_51274 902\n",
      "item_51275 922\n",
      "item_50863 2427\n",
      "item_50878 2354\n",
      "item_50885 2510\n",
      "total_drugs 21\n",
      "unique_drugs 21\n",
      "lods_score 172\n",
      "oasis_score 0\n",
      "procedure_221214 2818\n",
      "procedure_221216 5406\n",
      "procedure_221217 4832\n",
      "procedure_221223 5474\n",
      "procedure_221255 5816\n",
      "procedure_223253 3941\n",
      "procedure_224263 4227\n",
      "procedure_224264 4791\n",
      "procedure_224267 5607\n",
      "procedure_224268 6014\n",
      "procedure_224269 5865\n",
      "procedure_224270 5845\n",
      "procedure_224272 6028\n",
      "procedure_224274 4003\n",
      "procedure_224275 958\n",
      "procedure_224276 5018\n",
      "procedure_224277 1912\n",
      "procedure_224385 5033\n",
      "procedure_224560 5691\n",
      "procedure_225202 6036\n",
      "procedure_225204 5949\n",
      "procedure_225399 5975\n",
      "procedure_225400 5536\n",
      "procedure_225401 4497\n",
      "procedure_225402 3697\n",
      "procedure_225427 5762\n",
      "procedure_225430 6005\n",
      "procedure_225432 4455\n",
      "procedure_225433 6008\n",
      "procedure_225437 5950\n",
      "procedure_225439 5987\n",
      "procedure_225440 6009\n",
      "procedure_225441 5927\n",
      "procedure_225444 5620\n",
      "procedure_225446 5917\n",
      "procedure_225448 5941\n",
      "procedure_225451 5264\n",
      "procedure_225454 4645\n",
      "procedure_225457 5865\n",
      "procedure_225459 3160\n",
      "procedure_225462 5770\n",
      "procedure_225464 6027\n",
      "procedure_225468 6018\n",
      "procedure_225469 4796\n",
      "procedure_225470 5354\n",
      "procedure_225752 2894\n",
      "procedure_225789 5852\n",
      "procedure_225792 2897\n",
      "procedure_225794 5892\n",
      "procedure_225802 5946\n",
      "procedure_225805 6085\n",
      "procedure_225814 5777\n",
      "procedure_225817 5917\n",
      "procedure_225966 4856\n",
      "procedure_226124 5720\n",
      "procedure_226236 5941\n",
      "procedure_226475 5979\n",
      "procedure_227194 3619\n",
      "procedure_227712 5764\n",
      "procedure_227719 6015\n",
      "procedure_228125 5601\n",
      "procedure_228127 5872\n",
      "procedure_228128 5040\n",
      "procedure_228129 4890\n",
      "procedure_228130 5851\n",
      "procedure_228715 5915\n",
      "procedure_229298 5971\n",
      "procedure_229351 4545\n",
      "procedure_229380 5948\n",
      "procedure_229519 5963\n",
      "procedure_229526 6036\n",
      "procedure_229532 6059\n",
      "procedure_229580 5905\n",
      "procedure_229581 5453\n",
      "procedure_229582 5954\n",
      "procedure_229614 5890\n",
      "ph 2753\n",
      "PaO2 2753\n",
      "PaCO2 2753\n",
      "sodium 370\n",
      "potassium 384\n",
      "calcium 1382\n",
      "creatinine 308\n",
      "bun 292\n",
      "urine_output_total 175\n",
      "pt 530\n",
      "inr 531\n",
      "ptt 545\n",
      "systolic_bp 9\n",
      "diastolic_bp 9\n",
      "mean_arterial_pressure 11\n",
      "heart_rate 1\n",
      "resp_rate 4\n",
      "temperature 48\n",
      "spo2 4\n",
      "glucose 168\n",
      "starttime 1716\n",
      "endtime 1716\n",
      "hospital_stay_duration 0\n",
      "icu_stay_duration 0\n",
      "ventilation_duration 1716\n"
     ]
    }
   ],
   "source": [
    "# help me look at null values in each column\n",
    "for column in columns:\n",
    "    print(column, dedup_no_hospice_icu_raw_data[column].isnull().sum())"
   ]
  },
  {
   "cell_type": "markdown",
   "metadata": {},
   "source": [
    "- id: subject_id, hadm_id, \n",
    "\n",
    "- change to bool of null or not null: ventilation_duration; stay_id (turn into 'went into ICU or not'); procedure (probably can only pick 1 since all 301)\n",
    "\n",
    "- write on discussion: people choose to record certain features; this induces biases.\n",
    "\n",
    "- write on discussion: if missingness too correlated with death, then remove\n"
   ]
  },
  {
   "cell_type": "code",
   "execution_count": 7,
   "metadata": {},
   "outputs": [],
   "source": [
    "drop_columns = ['admittime', 'dischtime_x', 'starttime', 'endtime',\n",
    "                'intime', 'outtime', 'hospital_expire_flag', 'los', 'discharge_location']\n",
    "drop_columns.extend(['item_50863', 'item_50878', 'item_50885',\n",
    "                    'item_51237', 'item_51274', 'item_51275'])\n",
    "drop_columns.extend(['ph', 'PaO2', 'calcium', 'ptt', 'PaCO2'])\n",
    "\n",
    "# second round of dropping columns after chisq, spearmann corr and mann-whitney-u tests\n",
    "drop_columns.extend(['item_51221', 'item_51006', 'total_drugs', 'inr', 'diastolic_bp',\n",
    "                     'sodium', 'temperature', 'procedure_221216',  'procedure_221216',\n",
    "                     'procedure_221217', 'procedure_221255', 'procedure_224264',\n",
    "                     'procedure_224268', 'procedure_224269', 'procedure_224272',\n",
    "                     'procedure_224277', 'procedure_224560', 'procedure_225202',\n",
    "                     'procedure_225204', 'procedure_225399', 'procedure_225402',\n",
    "                     'procedure_225433', 'procedure_225437', 'procedure_225439',\n",
    "                     'procedure_225440', 'procedure_225441', 'procedure_225448',\n",
    "                     'procedure_225462', 'procedure_225468', 'procedure_225789',\n",
    "                     'procedure_225794', 'procedure_225805', 'procedure_225814',\n",
    "                     'procedure_225966', 'procedure_227719', 'procedure_228129',\n",
    "                     'procedure_229526', 'procedure_229532'\n",
    "                     ])\n",
    "\n",
    "fillna_columns = ['unique_drugs',\n",
    "                  'marital_status', 'oasis_score', 'lods_score', 'deathtime']\n",
    "\n",
    "booleanise_columns = ['ventilation_duration', 'stay_id']\n",
    "for column in columns:\n",
    "    if 'procedure' in column and column not in drop_columns:\n",
    "        booleanise_columns.append(column)\n",
    "\n",
    "one_hot_columns = ['gender', 'race']\n",
    "one_hot_columns.extend(['insurance', 'marital_status'])\n",
    "\n",
    "maybe_keep = ['hospital_stay_duration', 'icu_stay_duration']"
   ]
  },
  {
   "cell_type": "code",
   "execution_count": 8,
   "metadata": {},
   "outputs": [
    {
     "name": "stderr",
     "output_type": "stream",
     "text": [
      "/var/folders/xg/8w_3dndd6l5c3n99vd7vd3f40000gn/T/ipykernel_68779/65312332.py:4: FutureWarning: A value is trying to be set on a copy of a DataFrame or Series through chained assignment using an inplace method.\n",
      "The behavior will change in pandas 3.0. This inplace method will never work because the intermediate object on which we are setting values always behaves as a copy.\n",
      "\n",
      "For example, when doing 'df[col].method(value, inplace=True)', try using 'df.method({col: value}, inplace=True)' or df[col] = df[col].method(value) instead, to perform the operation inplace on the original object.\n",
      "\n",
      "\n",
      "  drop_columns_df[column].fillna(0, inplace=True)\n"
     ]
    }
   ],
   "source": [
    "drop_columns_df = dedup_no_hospice_icu_raw_data.drop(columns=drop_columns)\n",
    "\n",
    "for column in fillna_columns:\n",
    "    drop_columns_df[column].fillna(0, inplace=True)\n",
    "\n",
    "for column in booleanise_columns:\n",
    "    drop_columns_df[column] = drop_columns_df[column].apply(\n",
    "        lambda x: 1 if not pd.isna(x) else 0)"
   ]
  },
  {
   "cell_type": "code",
   "execution_count": 9,
   "metadata": {},
   "outputs": [
    {
     "data": {
      "text/plain": [
       "76"
      ]
     },
     "execution_count": 9,
     "metadata": {},
     "output_type": "execute_result"
    }
   ],
   "source": [
    "len(drop_columns_df.columns)"
   ]
  },
  {
   "cell_type": "code",
   "execution_count": 10,
   "metadata": {},
   "outputs": [
    {
     "name": "stdout",
     "output_type": "stream",
     "text": [
      "subject_id 0\n",
      "hadm_id 0\n",
      "gender 0\n",
      "anchor_age 0\n",
      "race 0\n",
      "admission_type 0\n",
      "insurance 0\n",
      "marital_status 0\n",
      "stay_id 0\n",
      "deathtime 0\n",
      "item_51222 706\n",
      "item_51265 714\n",
      "item_51301 705\n",
      "unique_drugs 0\n",
      "lods_score 0\n",
      "oasis_score 0\n",
      "procedure_221214 0\n",
      "procedure_221223 0\n",
      "procedure_223253 0\n",
      "procedure_224263 0\n",
      "procedure_224267 0\n",
      "procedure_224270 0\n",
      "procedure_224274 0\n",
      "procedure_224275 0\n",
      "procedure_224276 0\n",
      "procedure_224385 0\n",
      "procedure_225400 0\n",
      "procedure_225401 0\n",
      "procedure_225427 0\n",
      "procedure_225430 0\n",
      "procedure_225432 0\n",
      "procedure_225444 0\n",
      "procedure_225446 0\n",
      "procedure_225451 0\n",
      "procedure_225454 0\n",
      "procedure_225457 0\n",
      "procedure_225459 0\n",
      "procedure_225464 0\n",
      "procedure_225469 0\n",
      "procedure_225470 0\n",
      "procedure_225752 0\n",
      "procedure_225792 0\n",
      "procedure_225802 0\n",
      "procedure_225817 0\n",
      "procedure_226124 0\n",
      "procedure_226236 0\n",
      "procedure_226475 0\n",
      "procedure_227194 0\n",
      "procedure_227712 0\n",
      "procedure_228125 0\n",
      "procedure_228127 0\n",
      "procedure_228128 0\n",
      "procedure_228130 0\n",
      "procedure_228715 0\n",
      "procedure_229298 0\n",
      "procedure_229351 0\n",
      "procedure_229380 0\n",
      "procedure_229519 0\n",
      "procedure_229580 0\n",
      "procedure_229581 0\n",
      "procedure_229582 0\n",
      "procedure_229614 0\n",
      "potassium 384\n",
      "creatinine 308\n",
      "bun 292\n",
      "urine_output_total 175\n",
      "pt 530\n",
      "systolic_bp 9\n",
      "mean_arterial_pressure 11\n",
      "heart_rate 1\n",
      "resp_rate 4\n",
      "spo2 4\n",
      "glucose 168\n",
      "hospital_stay_duration 0\n",
      "icu_stay_duration 0\n",
      "ventilation_duration 0\n"
     ]
    }
   ],
   "source": [
    "for column in drop_columns_df.columns:\n",
    "    print(column, drop_columns_df[column].isnull().sum())"
   ]
  },
  {
   "cell_type": "code",
   "execution_count": 14,
   "metadata": {},
   "outputs": [],
   "source": [
    "dropna_df = drop_columns_df.dropna()"
   ]
  },
  {
   "cell_type": "code",
   "execution_count": 15,
   "metadata": {},
   "outputs": [
    {
     "data": {
      "text/plain": [
       "(4621, 3778, 843)"
      ]
     },
     "execution_count": 15,
     "metadata": {},
     "output_type": "execute_result"
    }
   ],
   "source": [
    "len(dropna_df), len(dropna_df[dropna_df['deathtime'] == 0]), len(\n",
    "    dropna_df[dropna_df['deathtime'] != 0])"
   ]
  },
  {
   "cell_type": "code",
   "execution_count": 17,
   "metadata": {},
   "outputs": [],
   "source": [
    "os.makedirs('../data/curated', exist_ok=True)\n",
    "dropna_df.to_csv('../data/curated/rm_na_df_v2.csv', index=False)"
   ]
  }
 ],
 "metadata": {
  "kernelspec": {
   "display_name": "base",
   "language": "python",
   "name": "python3"
  },
  "language_info": {
   "codemirror_mode": {
    "name": "ipython",
    "version": 3
   },
   "file_extension": ".py",
   "mimetype": "text/x-python",
   "name": "python",
   "nbconvert_exporter": "python",
   "pygments_lexer": "ipython3",
   "version": "3.11.9"
  }
 },
 "nbformat": 4,
 "nbformat_minor": 2
}
