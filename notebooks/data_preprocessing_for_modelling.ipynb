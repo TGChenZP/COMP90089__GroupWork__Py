{
 "cells": [
  {
   "cell_type": "markdown",
   "metadata": {},
   "source": [
    "Import libraries"
   ]
  },
  {
   "cell_type": "code",
   "execution_count": 1,
   "metadata": {},
   "outputs": [],
   "source": [
    "import pandas as pd\n",
    "from sklearn.model_selection import train_test_split, StratifiedKFold\n",
    "from imblearn.over_sampling import SMOTE\n",
    "from sklearn.preprocessing import StandardScaler\n",
    "from collections import defaultdict as dd\n",
    "from xgboost import XGBClassifier\n",
    "from tqdm import tqdm\n",
    "import pickle\n",
    "import os"
   ]
  },
  {
   "cell_type": "markdown",
   "metadata": {},
   "source": [
    "Import or define data"
   ]
  },
  {
   "cell_type": "code",
   "execution_count": 2,
   "metadata": {},
   "outputs": [],
   "source": [
    "SEED = 42\n",
    "\n",
    "FOLDS = 10"
   ]
  },
  {
   "cell_type": "code",
   "execution_count": 3,
   "metadata": {},
   "outputs": [],
   "source": [
    "data = pd.read_csv('../data/curated/cleaned_data.csv')"
   ]
  },
  {
   "cell_type": "markdown",
   "metadata": {},
   "source": [
    "# Preprocessing"
   ]
  },
  {
   "cell_type": "markdown",
   "metadata": {},
   "source": [
    "## Split"
   ]
  },
  {
   "cell_type": "code",
   "execution_count": 4,
   "metadata": {},
   "outputs": [],
   "source": [
    "# stratisfied split based on target variable mortality_status, and gender\n",
    "stratify_columns = data[['mortality_status', 'gender_M']]\n",
    "\n",
    "cv_data, test_data = train_test_split(\n",
    "    data, test_size=0.3, stratify=stratify_columns, random_state=SEED)"
   ]
  },
  {
   "cell_type": "code",
   "execution_count": 5,
   "metadata": {},
   "outputs": [],
   "source": [
    "cv_data.to_csv('../data/curated/modelling/train_data.csv', index=False)"
   ]
  },
  {
   "cell_type": "code",
   "execution_count": 6,
   "metadata": {},
   "outputs": [],
   "source": [
    "# 10cv\n",
    "stratify_columns_combined = cv_data['mortality_status'].astype(\n",
    "    str) + \"_\" + cv_data['gender_M'].astype(str)\n",
    "\n",
    "cv_data_dict = {'train': [], 'val': []}\n",
    "\n",
    "\n",
    "skf = StratifiedKFold(n_splits=10, shuffle=True, random_state=SEED)\n",
    "\n",
    "# Perform 10-fold cross-validation\n",
    "for train_index, val_index in skf.split(cv_data, stratify_columns_combined):\n",
    "    train_data = cv_data.iloc[train_index]\n",
    "    val_data = cv_data.iloc[val_index]\n",
    "\n",
    "    cv_data_dict['train'].append(train_data)\n",
    "    cv_data_dict['val'].append(val_data)"
   ]
  },
  {
   "cell_type": "markdown",
   "metadata": {},
   "source": [
    "## SMOTE"
   ]
  },
  {
   "cell_type": "code",
   "execution_count": 7,
   "metadata": {},
   "outputs": [],
   "source": [
    "# Initialize SMOTE\n",
    "smote = SMOTE(random_state=SEED)\n",
    "\n",
    "# Create a new dictionary to store SMOTE-resampled data\n",
    "smote_cv_data_dict = {'train': [], 'val': cv_data_dict['val']}\n",
    "\n",
    "# Loop through the 10 training sets and apply SMOTE\n",
    "for i in range(10):\n",
    "    # Extract the current training set\n",
    "    train_data = cv_data_dict['train'][i]\n",
    "\n",
    "    # Separate features and target for SMOTE\n",
    "    X_train = train_data.drop(columns=['mortality_status'])\n",
    "    y_train = train_data['mortality_status']\n",
    "\n",
    "    # Apply SMOTE to the training data\n",
    "    X_train_smote, y_train_smote = smote.fit_resample(X_train, y_train)\n",
    "\n",
    "    # Combine the resampled features and target back into a DataFrame\n",
    "    train_data_smote = X_train_smote.copy()\n",
    "    train_data_smote['mortality_status'] = y_train_smote\n",
    "\n",
    "    # Append the SMOTE-resampled training data to the new dictionary\n",
    "    smote_cv_data_dict['train'].append(train_data_smote)"
   ]
  },
  {
   "cell_type": "markdown",
   "metadata": {},
   "source": [
    "## Normalise"
   ]
  },
  {
   "cell_type": "code",
   "execution_count": 8,
   "metadata": {},
   "outputs": [],
   "source": [
    "# find the continuous variables in the data by going through columns and checking the number of unique values\n",
    "continuous_columns = []\n",
    "for column in data.columns:\n",
    "    if data[column].nunique() > 10 and column not in ['subject_id', 'hadm_id']:\n",
    "        continuous_columns.append(column)"
   ]
  },
  {
   "cell_type": "code",
   "execution_count": 9,
   "metadata": {},
   "outputs": [],
   "source": [
    "def normalise(data_dict, continuous_columns):\n",
    "\n",
    "    for i in range(10):\n",
    "        train_data = data_dict['train'][i]\n",
    "        val_data = data_dict['val'][i]\n",
    "\n",
    "        # Normalise the continuous features\n",
    "        scaler = StandardScaler()\n",
    "        train_data[continuous_columns] = scaler.fit_transform(\n",
    "            train_data[continuous_columns])\n",
    "        val_data[continuous_columns] = scaler.transform(\n",
    "            val_data[continuous_columns])\n",
    "\n",
    "        data_dict['train'][i] = train_data\n",
    "        data_dict['val'][i] = val_data\n",
    "\n",
    "    return data_dict"
   ]
  },
  {
   "cell_type": "code",
   "execution_count": 10,
   "metadata": {},
   "outputs": [
    {
     "name": "stderr",
     "output_type": "stream",
     "text": [
      "/var/folders/xg/8w_3dndd6l5c3n99vd7vd3f40000gn/T/ipykernel_14088/810974916.py:11: SettingWithCopyWarning: \n",
      "A value is trying to be set on a copy of a slice from a DataFrame.\n",
      "Try using .loc[row_indexer,col_indexer] = value instead\n",
      "\n",
      "See the caveats in the documentation: https://pandas.pydata.org/pandas-docs/stable/user_guide/indexing.html#returning-a-view-versus-a-copy\n",
      "  val_data[continuous_columns] = scaler.transform(\n",
      "/var/folders/xg/8w_3dndd6l5c3n99vd7vd3f40000gn/T/ipykernel_14088/810974916.py:11: SettingWithCopyWarning: \n",
      "A value is trying to be set on a copy of a slice from a DataFrame.\n",
      "Try using .loc[row_indexer,col_indexer] = value instead\n",
      "\n",
      "See the caveats in the documentation: https://pandas.pydata.org/pandas-docs/stable/user_guide/indexing.html#returning-a-view-versus-a-copy\n",
      "  val_data[continuous_columns] = scaler.transform(\n",
      "/var/folders/xg/8w_3dndd6l5c3n99vd7vd3f40000gn/T/ipykernel_14088/810974916.py:11: SettingWithCopyWarning: \n",
      "A value is trying to be set on a copy of a slice from a DataFrame.\n",
      "Try using .loc[row_indexer,col_indexer] = value instead\n",
      "\n",
      "See the caveats in the documentation: https://pandas.pydata.org/pandas-docs/stable/user_guide/indexing.html#returning-a-view-versus-a-copy\n",
      "  val_data[continuous_columns] = scaler.transform(\n",
      "/var/folders/xg/8w_3dndd6l5c3n99vd7vd3f40000gn/T/ipykernel_14088/810974916.py:11: SettingWithCopyWarning: \n",
      "A value is trying to be set on a copy of a slice from a DataFrame.\n",
      "Try using .loc[row_indexer,col_indexer] = value instead\n",
      "\n",
      "See the caveats in the documentation: https://pandas.pydata.org/pandas-docs/stable/user_guide/indexing.html#returning-a-view-versus-a-copy\n",
      "  val_data[continuous_columns] = scaler.transform(\n",
      "/var/folders/xg/8w_3dndd6l5c3n99vd7vd3f40000gn/T/ipykernel_14088/810974916.py:11: SettingWithCopyWarning: \n",
      "A value is trying to be set on a copy of a slice from a DataFrame.\n",
      "Try using .loc[row_indexer,col_indexer] = value instead\n",
      "\n",
      "See the caveats in the documentation: https://pandas.pydata.org/pandas-docs/stable/user_guide/indexing.html#returning-a-view-versus-a-copy\n",
      "  val_data[continuous_columns] = scaler.transform(\n",
      "/var/folders/xg/8w_3dndd6l5c3n99vd7vd3f40000gn/T/ipykernel_14088/810974916.py:11: SettingWithCopyWarning: \n",
      "A value is trying to be set on a copy of a slice from a DataFrame.\n",
      "Try using .loc[row_indexer,col_indexer] = value instead\n",
      "\n",
      "See the caveats in the documentation: https://pandas.pydata.org/pandas-docs/stable/user_guide/indexing.html#returning-a-view-versus-a-copy\n",
      "  val_data[continuous_columns] = scaler.transform(\n",
      "/var/folders/xg/8w_3dndd6l5c3n99vd7vd3f40000gn/T/ipykernel_14088/810974916.py:11: SettingWithCopyWarning: \n",
      "A value is trying to be set on a copy of a slice from a DataFrame.\n",
      "Try using .loc[row_indexer,col_indexer] = value instead\n",
      "\n",
      "See the caveats in the documentation: https://pandas.pydata.org/pandas-docs/stable/user_guide/indexing.html#returning-a-view-versus-a-copy\n",
      "  val_data[continuous_columns] = scaler.transform(\n",
      "/var/folders/xg/8w_3dndd6l5c3n99vd7vd3f40000gn/T/ipykernel_14088/810974916.py:11: SettingWithCopyWarning: \n",
      "A value is trying to be set on a copy of a slice from a DataFrame.\n",
      "Try using .loc[row_indexer,col_indexer] = value instead\n",
      "\n",
      "See the caveats in the documentation: https://pandas.pydata.org/pandas-docs/stable/user_guide/indexing.html#returning-a-view-versus-a-copy\n",
      "  val_data[continuous_columns] = scaler.transform(\n",
      "/var/folders/xg/8w_3dndd6l5c3n99vd7vd3f40000gn/T/ipykernel_14088/810974916.py:11: SettingWithCopyWarning: \n",
      "A value is trying to be set on a copy of a slice from a DataFrame.\n",
      "Try using .loc[row_indexer,col_indexer] = value instead\n",
      "\n",
      "See the caveats in the documentation: https://pandas.pydata.org/pandas-docs/stable/user_guide/indexing.html#returning-a-view-versus-a-copy\n",
      "  val_data[continuous_columns] = scaler.transform(\n",
      "/var/folders/xg/8w_3dndd6l5c3n99vd7vd3f40000gn/T/ipykernel_14088/810974916.py:11: SettingWithCopyWarning: \n",
      "A value is trying to be set on a copy of a slice from a DataFrame.\n",
      "Try using .loc[row_indexer,col_indexer] = value instead\n",
      "\n",
      "See the caveats in the documentation: https://pandas.pydata.org/pandas-docs/stable/user_guide/indexing.html#returning-a-view-versus-a-copy\n",
      "  val_data[continuous_columns] = scaler.transform(\n",
      "/var/folders/xg/8w_3dndd6l5c3n99vd7vd3f40000gn/T/ipykernel_14088/810974916.py:9: SettingWithCopyWarning: \n",
      "A value is trying to be set on a copy of a slice from a DataFrame.\n",
      "Try using .loc[row_indexer,col_indexer] = value instead\n",
      "\n",
      "See the caveats in the documentation: https://pandas.pydata.org/pandas-docs/stable/user_guide/indexing.html#returning-a-view-versus-a-copy\n",
      "  train_data[continuous_columns] = scaler.fit_transform(\n",
      "/var/folders/xg/8w_3dndd6l5c3n99vd7vd3f40000gn/T/ipykernel_14088/810974916.py:11: SettingWithCopyWarning: \n",
      "A value is trying to be set on a copy of a slice from a DataFrame.\n",
      "Try using .loc[row_indexer,col_indexer] = value instead\n",
      "\n",
      "See the caveats in the documentation: https://pandas.pydata.org/pandas-docs/stable/user_guide/indexing.html#returning-a-view-versus-a-copy\n",
      "  val_data[continuous_columns] = scaler.transform(\n",
      "/var/folders/xg/8w_3dndd6l5c3n99vd7vd3f40000gn/T/ipykernel_14088/810974916.py:9: SettingWithCopyWarning: \n",
      "A value is trying to be set on a copy of a slice from a DataFrame.\n",
      "Try using .loc[row_indexer,col_indexer] = value instead\n",
      "\n",
      "See the caveats in the documentation: https://pandas.pydata.org/pandas-docs/stable/user_guide/indexing.html#returning-a-view-versus-a-copy\n",
      "  train_data[continuous_columns] = scaler.fit_transform(\n",
      "/var/folders/xg/8w_3dndd6l5c3n99vd7vd3f40000gn/T/ipykernel_14088/810974916.py:11: SettingWithCopyWarning: \n",
      "A value is trying to be set on a copy of a slice from a DataFrame.\n",
      "Try using .loc[row_indexer,col_indexer] = value instead\n",
      "\n",
      "See the caveats in the documentation: https://pandas.pydata.org/pandas-docs/stable/user_guide/indexing.html#returning-a-view-versus-a-copy\n",
      "  val_data[continuous_columns] = scaler.transform(\n",
      "/var/folders/xg/8w_3dndd6l5c3n99vd7vd3f40000gn/T/ipykernel_14088/810974916.py:9: SettingWithCopyWarning: \n",
      "A value is trying to be set on a copy of a slice from a DataFrame.\n",
      "Try using .loc[row_indexer,col_indexer] = value instead\n",
      "\n",
      "See the caveats in the documentation: https://pandas.pydata.org/pandas-docs/stable/user_guide/indexing.html#returning-a-view-versus-a-copy\n",
      "  train_data[continuous_columns] = scaler.fit_transform(\n",
      "/var/folders/xg/8w_3dndd6l5c3n99vd7vd3f40000gn/T/ipykernel_14088/810974916.py:11: SettingWithCopyWarning: \n",
      "A value is trying to be set on a copy of a slice from a DataFrame.\n",
      "Try using .loc[row_indexer,col_indexer] = value instead\n",
      "\n",
      "See the caveats in the documentation: https://pandas.pydata.org/pandas-docs/stable/user_guide/indexing.html#returning-a-view-versus-a-copy\n",
      "  val_data[continuous_columns] = scaler.transform(\n",
      "/var/folders/xg/8w_3dndd6l5c3n99vd7vd3f40000gn/T/ipykernel_14088/810974916.py:9: SettingWithCopyWarning: \n",
      "A value is trying to be set on a copy of a slice from a DataFrame.\n",
      "Try using .loc[row_indexer,col_indexer] = value instead\n",
      "\n",
      "See the caveats in the documentation: https://pandas.pydata.org/pandas-docs/stable/user_guide/indexing.html#returning-a-view-versus-a-copy\n",
      "  train_data[continuous_columns] = scaler.fit_transform(\n",
      "/var/folders/xg/8w_3dndd6l5c3n99vd7vd3f40000gn/T/ipykernel_14088/810974916.py:11: SettingWithCopyWarning: \n",
      "A value is trying to be set on a copy of a slice from a DataFrame.\n",
      "Try using .loc[row_indexer,col_indexer] = value instead\n",
      "\n",
      "See the caveats in the documentation: https://pandas.pydata.org/pandas-docs/stable/user_guide/indexing.html#returning-a-view-versus-a-copy\n",
      "  val_data[continuous_columns] = scaler.transform(\n",
      "/var/folders/xg/8w_3dndd6l5c3n99vd7vd3f40000gn/T/ipykernel_14088/810974916.py:9: SettingWithCopyWarning: \n",
      "A value is trying to be set on a copy of a slice from a DataFrame.\n",
      "Try using .loc[row_indexer,col_indexer] = value instead\n",
      "\n",
      "See the caveats in the documentation: https://pandas.pydata.org/pandas-docs/stable/user_guide/indexing.html#returning-a-view-versus-a-copy\n",
      "  train_data[continuous_columns] = scaler.fit_transform(\n",
      "/var/folders/xg/8w_3dndd6l5c3n99vd7vd3f40000gn/T/ipykernel_14088/810974916.py:11: SettingWithCopyWarning: \n",
      "A value is trying to be set on a copy of a slice from a DataFrame.\n",
      "Try using .loc[row_indexer,col_indexer] = value instead\n",
      "\n",
      "See the caveats in the documentation: https://pandas.pydata.org/pandas-docs/stable/user_guide/indexing.html#returning-a-view-versus-a-copy\n",
      "  val_data[continuous_columns] = scaler.transform(\n",
      "/var/folders/xg/8w_3dndd6l5c3n99vd7vd3f40000gn/T/ipykernel_14088/810974916.py:9: SettingWithCopyWarning: \n",
      "A value is trying to be set on a copy of a slice from a DataFrame.\n",
      "Try using .loc[row_indexer,col_indexer] = value instead\n",
      "\n",
      "See the caveats in the documentation: https://pandas.pydata.org/pandas-docs/stable/user_guide/indexing.html#returning-a-view-versus-a-copy\n",
      "  train_data[continuous_columns] = scaler.fit_transform(\n",
      "/var/folders/xg/8w_3dndd6l5c3n99vd7vd3f40000gn/T/ipykernel_14088/810974916.py:11: SettingWithCopyWarning: \n",
      "A value is trying to be set on a copy of a slice from a DataFrame.\n",
      "Try using .loc[row_indexer,col_indexer] = value instead\n",
      "\n",
      "See the caveats in the documentation: https://pandas.pydata.org/pandas-docs/stable/user_guide/indexing.html#returning-a-view-versus-a-copy\n",
      "  val_data[continuous_columns] = scaler.transform(\n",
      "/var/folders/xg/8w_3dndd6l5c3n99vd7vd3f40000gn/T/ipykernel_14088/810974916.py:9: SettingWithCopyWarning: \n",
      "A value is trying to be set on a copy of a slice from a DataFrame.\n",
      "Try using .loc[row_indexer,col_indexer] = value instead\n",
      "\n",
      "See the caveats in the documentation: https://pandas.pydata.org/pandas-docs/stable/user_guide/indexing.html#returning-a-view-versus-a-copy\n",
      "  train_data[continuous_columns] = scaler.fit_transform(\n",
      "/var/folders/xg/8w_3dndd6l5c3n99vd7vd3f40000gn/T/ipykernel_14088/810974916.py:11: SettingWithCopyWarning: \n",
      "A value is trying to be set on a copy of a slice from a DataFrame.\n",
      "Try using .loc[row_indexer,col_indexer] = value instead\n",
      "\n",
      "See the caveats in the documentation: https://pandas.pydata.org/pandas-docs/stable/user_guide/indexing.html#returning-a-view-versus-a-copy\n",
      "  val_data[continuous_columns] = scaler.transform(\n",
      "/var/folders/xg/8w_3dndd6l5c3n99vd7vd3f40000gn/T/ipykernel_14088/810974916.py:9: SettingWithCopyWarning: \n",
      "A value is trying to be set on a copy of a slice from a DataFrame.\n",
      "Try using .loc[row_indexer,col_indexer] = value instead\n",
      "\n",
      "See the caveats in the documentation: https://pandas.pydata.org/pandas-docs/stable/user_guide/indexing.html#returning-a-view-versus-a-copy\n",
      "  train_data[continuous_columns] = scaler.fit_transform(\n",
      "/var/folders/xg/8w_3dndd6l5c3n99vd7vd3f40000gn/T/ipykernel_14088/810974916.py:11: SettingWithCopyWarning: \n",
      "A value is trying to be set on a copy of a slice from a DataFrame.\n",
      "Try using .loc[row_indexer,col_indexer] = value instead\n",
      "\n",
      "See the caveats in the documentation: https://pandas.pydata.org/pandas-docs/stable/user_guide/indexing.html#returning-a-view-versus-a-copy\n",
      "  val_data[continuous_columns] = scaler.transform(\n",
      "/var/folders/xg/8w_3dndd6l5c3n99vd7vd3f40000gn/T/ipykernel_14088/810974916.py:9: SettingWithCopyWarning: \n",
      "A value is trying to be set on a copy of a slice from a DataFrame.\n",
      "Try using .loc[row_indexer,col_indexer] = value instead\n",
      "\n",
      "See the caveats in the documentation: https://pandas.pydata.org/pandas-docs/stable/user_guide/indexing.html#returning-a-view-versus-a-copy\n",
      "  train_data[continuous_columns] = scaler.fit_transform(\n",
      "/var/folders/xg/8w_3dndd6l5c3n99vd7vd3f40000gn/T/ipykernel_14088/810974916.py:11: SettingWithCopyWarning: \n",
      "A value is trying to be set on a copy of a slice from a DataFrame.\n",
      "Try using .loc[row_indexer,col_indexer] = value instead\n",
      "\n",
      "See the caveats in the documentation: https://pandas.pydata.org/pandas-docs/stable/user_guide/indexing.html#returning-a-view-versus-a-copy\n",
      "  val_data[continuous_columns] = scaler.transform(\n",
      "/var/folders/xg/8w_3dndd6l5c3n99vd7vd3f40000gn/T/ipykernel_14088/810974916.py:9: SettingWithCopyWarning: \n",
      "A value is trying to be set on a copy of a slice from a DataFrame.\n",
      "Try using .loc[row_indexer,col_indexer] = value instead\n",
      "\n",
      "See the caveats in the documentation: https://pandas.pydata.org/pandas-docs/stable/user_guide/indexing.html#returning-a-view-versus-a-copy\n",
      "  train_data[continuous_columns] = scaler.fit_transform(\n",
      "/var/folders/xg/8w_3dndd6l5c3n99vd7vd3f40000gn/T/ipykernel_14088/810974916.py:11: SettingWithCopyWarning: \n",
      "A value is trying to be set on a copy of a slice from a DataFrame.\n",
      "Try using .loc[row_indexer,col_indexer] = value instead\n",
      "\n",
      "See the caveats in the documentation: https://pandas.pydata.org/pandas-docs/stable/user_guide/indexing.html#returning-a-view-versus-a-copy\n",
      "  val_data[continuous_columns] = scaler.transform(\n"
     ]
    }
   ],
   "source": [
    "smote_cv_data_dict = normalise(smote_cv_data_dict, continuous_columns)\n",
    "cv_data_dict = normalise(cv_data_dict, continuous_columns)"
   ]
  },
  {
   "cell_type": "code",
   "execution_count": 11,
   "metadata": {},
   "outputs": [],
   "source": [
    "os.makedirs('../data/curated/modelling/normalise', exist_ok=True)\n",
    "os.makedirs('../data/curated/modelling/smote_normalise', exist_ok=True)\n",
    "\n",
    "for i in range(10):\n",
    "    cv_data_dict['train'][i].to_csv(\n",
    "        f'../data/curated/modelling/normalise/train_{i}.csv', index=False)\n",
    "    cv_data_dict['val'][i].to_csv(\n",
    "        f'../data/curated/modelling/normalise/val_{i}.csv', index=False)\n",
    "\n",
    "    smote_cv_data_dict['train'][i].to_csv(\n",
    "        f'../data/curated/modelling/smote_normalise/train_{i}.csv', index=False)\n",
    "    cv_data_dict['val'][i].to_csv(\n",
    "        f'../data/curated/modelling/smote_normalise/val_{i}.csv', index=False)"
   ]
  },
  {
   "cell_type": "code",
   "execution_count": 12,
   "metadata": {},
   "outputs": [],
   "source": [
    "test_data.to_csv('../data/curated/modelling/test_data.csv', index=False)"
   ]
  },
  {
   "cell_type": "markdown",
   "metadata": {},
   "source": [
    "## Feature Selection"
   ]
  },
  {
   "cell_type": "code",
   "execution_count": 13,
   "metadata": {},
   "outputs": [],
   "source": [
    "def create_constraints(paired_variables: list):\n",
    "    \"\"\" \n",
    "        Helper function which creates dictionary format in terms of constraints\n",
    "\n",
    "        Input:\n",
    "            - paired_variables: list of lists, where each list contains two variables which are paired together\n",
    "\n",
    "        Output:\n",
    "            - constraints: dictionary where each key is a variable and each value is a list of variables which it is paired with\n",
    "            - e.g. {'A': ['B', 'C'], 'B': ['A', 'C'], 'C': ['A', 'B']\n",
    "    \"\"\"\n",
    "\n",
    "    constraints = {}\n",
    "\n",
    "    for paired_variable in paired_variables:\n",
    "        for variable in paired_variable:\n",
    "            constraints[variable] = [\n",
    "                var for var in paired_variable if var != variable]\n",
    "\n",
    "    return constraints"
   ]
  },
  {
   "cell_type": "code",
   "execution_count": 14,
   "metadata": {},
   "outputs": [],
   "source": [
    "def get_feature_importance(model_list, constraints: dict = {}):\n",
    "    \"\"\"\n",
    "        Gets sequential feature importance of model and returns it in a list format\n",
    "\n",
    "        Input:\n",
    "            - model: model which has been fitted - must have feature_importances_ and feature_names_in_ attributes\n",
    "            - constraints: dictionary where each key is a variable and each value is a list of variables which it is paired with\n",
    "            - restrictions: dictionary where each key is a variable and each value is a list of variables which it is restricted with\n",
    "    \"\"\"\n",
    "\n",
    "    ordered_feature_importance = dict()\n",
    "\n",
    "    feature_importance_dict = dd(float)\n",
    "\n",
    "    for i in range(len(model_list[0].feature_names_in_)):\n",
    "\n",
    "        for model in model_list:\n",
    "            feature_importance_dict[str(model.feature_names_in_[\n",
    "                i])] += float(model.feature_importances_[i])\n",
    "\n",
    "        feature_importance_dict[str(model.feature_names_in_[\n",
    "                                    i])] /= len(model_list)\n",
    "\n",
    "    feature_importance_list = list(feature_importance_dict.items())\n",
    "\n",
    "    feature_importance_list.sort(key=lambda x: x[1], reverse=True)\n",
    "\n",
    "    curr = []\n",
    "    score = 0\n",
    "    for i in range(len(feature_importance_list)):\n",
    "\n",
    "        if feature_importance_list[i][0] in curr:\n",
    "            continue\n",
    "\n",
    "        # test for constraint\n",
    "        if feature_importance_list[i][0] in constraints.keys():\n",
    "            for constrainted_feature in constraints[feature_importance_list[i][0]]:\n",
    "                if constrainted_feature in curr:\n",
    "                    continue\n",
    "                else:\n",
    "                    curr.append(constrainted_feature)\n",
    "                    score += feature_importance_dict[constrainted_feature]\n",
    "\n",
    "        curr.append(feature_importance_list[i][0])\n",
    "        score += feature_importance_list[i][1]\n",
    "\n",
    "        ordered_feature_importance[tuple(curr)] = score\n",
    "\n",
    "    return ordered_feature_importance"
   ]
  },
  {
   "cell_type": "code",
   "execution_count": 15,
   "metadata": {},
   "outputs": [],
   "source": [
    "# create constraints - one in all in\n",
    "\n",
    "data_columns = data.columns.to_list()\n",
    "constraints_list = []\n",
    "for one_hot_column in ['gender', 'race', 'admission_type', 'insurance', 'marital_status']:\n",
    "    constraints_list.append(\n",
    "        [column for column in data_columns if one_hot_column in column])"
   ]
  },
  {
   "cell_type": "code",
   "execution_count": 16,
   "metadata": {},
   "outputs": [],
   "source": [
    "target = 'mortality_status'\n",
    "\n",
    "drop_columns = ['mortality_status', 'subject_id', 'hadm_id', 'stay_id']"
   ]
  },
  {
   "cell_type": "code",
   "execution_count": 17,
   "metadata": {},
   "outputs": [
    {
     "name": "stdout",
     "output_type": "stream",
     "text": [
      "Getting feature importance ordering for smote_normalise\n"
     ]
    },
    {
     "name": "stderr",
     "output_type": "stream",
     "text": [
      "100%|██████████| 10/10 [00:08<00:00,  1.17it/s]\n"
     ]
    },
    {
     "name": "stdout",
     "output_type": "stream",
     "text": [
      "Getting feature importance ordering for normalise\n"
     ]
    },
    {
     "name": "stderr",
     "output_type": "stream",
     "text": [
      "100%|██████████| 10/10 [00:06<00:00,  1.50it/s]\n"
     ]
    }
   ],
   "source": [
    "constraints = create_constraints(constraints_list)\n",
    "for PREPROCESSING in ['smote_normalise', 'normalise']:\n",
    "    print(f'Getting feature importance ordering for {PREPROCESSING}')\n",
    "\n",
    "    if PREPROCESSING == 'smote_normalise':\n",
    "        train_data = smote_cv_data_dict['train'][0]\n",
    "    else:\n",
    "        train_data = cv_data_dict['train'][0]\n",
    "\n",
    "    train_x_list = []\n",
    "    train_y_list = []\n",
    "\n",
    "    for i in range(FOLDS):\n",
    "\n",
    "        train_x = train_data.drop(\n",
    "            drop_columns, axis=1)\n",
    "        train_y = train_data[target]\n",
    "\n",
    "        train_x_list.append(train_x)\n",
    "        train_y_list.append(train_y)\n",
    "\n",
    "    # get XGB model for feature importance ordering\n",
    "    xgb_model_list = []\n",
    "\n",
    "    for i in tqdm(range(FOLDS)):\n",
    "        xgb_model = XGBClassifier(max_depth=12,\n",
    "                                  random_state=42,\n",
    "                                  n_estimators=100,\n",
    "                                  colsample_bytree=0.75,\n",
    "                                  subsample=0.75\n",
    "                                  )\n",
    "\n",
    "        xgb_model.fit(train_x_list[i], train_y_list[i])\n",
    "\n",
    "        xgb_model_list.append(xgb_model)\n",
    "\n",
    "    # we aggregate the 10 model feature importances to unify ordering\n",
    "    xgb_feature_importance_ordering = get_feature_importance(\n",
    "        xgb_model_list, constraints)\n",
    "\n",
    "    # export\n",
    "    with open(f'../models/xgb_feature_importance_ordering_{PREPROCESSING}.pickle', 'wb') as f:\n",
    "        pickle.dump(xgb_feature_importance_ordering, f)"
   ]
  },
  {
   "cell_type": "markdown",
   "metadata": {},
   "source": [
    "# Final Modelling"
   ]
  },
  {
   "cell_type": "code",
   "execution_count": 18,
   "metadata": {},
   "outputs": [],
   "source": [
    "# normalise train data\n",
    "train_data = cv_data\n",
    "\n",
    "train_data_scaler = StandardScaler()\n",
    "train_data[continuous_columns] = train_data_scaler.fit_transform(\n",
    "    train_data[continuous_columns])\n",
    "\n",
    "train_data.to_csv(\n",
    "    '../data/curated/modelling/normalised_train_data.csv', index=False)\n",
    "\n",
    "# apply to test data\n",
    "test_data[continuous_columns] = train_data_scaler.transform(\n",
    "    test_data[continuous_columns])\n",
    "\n",
    "test_data.to_csv(\n",
    "    '../data/curated/modelling/normalised_test_data.csv', index=False)"
   ]
  },
  {
   "cell_type": "code",
   "execution_count": null,
   "metadata": {},
   "outputs": [],
   "source": []
  }
 ],
 "metadata": {
  "kernelspec": {
   "display_name": "MLAH",
   "language": "python",
   "name": "python3"
  },
  "language_info": {
   "codemirror_mode": {
    "name": "ipython",
    "version": 3
   },
   "file_extension": ".py",
   "mimetype": "text/x-python",
   "name": "python",
   "nbconvert_exporter": "python",
   "pygments_lexer": "ipython3",
   "version": "3.11.9"
  }
 },
 "nbformat": 4,
 "nbformat_minor": 2
}
